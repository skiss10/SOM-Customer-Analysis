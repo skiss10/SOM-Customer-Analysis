{
 "cells": [
  {
   "attachments": {},
   "cell_type": "markdown",
   "metadata": {},
   "source": [
    "# Payment Behavior Analysis with Self-Organizing Maps (SOM)\n",
    "\n",
    "In this notebook, we will be performing an analysis of user payment behavior using Self-Organizing Maps (SOM). The data set contains information about usage and payment information for users of a specific platform.\n",
    "\n",
    "We will begin by loading the necessary Python packages and importing the data."
   ]
  },
  {
   "cell_type": "code",
   "execution_count": 38,
   "metadata": {},
   "outputs": [],
   "source": [
    "# Required dependencies\n",
    "import pandas as pd\n",
    "import numpy as np\n",
    "import matplotlib.pyplot as plt\n",
    "\n",
    "from sklearn.preprocessing import MinMaxScaler\n",
    "from minisom import MiniSom\n",
    "from matplotlib.pyplot import bone, pcolor, colorbar, plot, show"
   ]
  },
  {
   "attachments": {},
   "cell_type": "markdown",
   "metadata": {},
   "source": [
    "## Data Loading\n",
    "\n",
    "We will load the data from a CSV file. The data includes various features like the number of API calls, DB rows, file storage space, user count, and team members, along with date information and pricing plan details."
   ]
  },
  {
   "cell_type": "code",
   "execution_count": 39,
   "metadata": {},
   "outputs": [
    {
     "name": "stdout",
     "output_type": "stream",
     "text": [
      "     workspace_id WorkspaceCreationDate  PlanPrice  TeamMembers DateFirstSeen  \\\n",
      "0               1            10/24/2018          0          2.0     2/23/2022   \n",
      "1               2            10/25/2018          0          4.0     2/23/2022   \n",
      "2               3            10/26/2018        150          2.0     2/23/2022   \n",
      "3               4             1/30/2019          0          7.0     2/23/2022   \n",
      "4               5             2/22/2019          0          8.0     2/23/2022   \n",
      "..            ...                   ...        ...          ...           ...   \n",
      "487           488             3/29/2022          0          1.0     3/31/2022   \n",
      "488           489             3/29/2022          0          1.0     3/30/2022   \n",
      "489           490             3/29/2022         50          1.0     3/30/2022   \n",
      "490           491             3/30/2022          0          1.0     3/31/2022   \n",
      "491           492             3/30/2022          0          1.0     3/31/2022   \n",
      "\n",
      "    DateLastSeen  NumberOfMyCompanyConsoleCalls_CurrentMonth  \\\n",
      "0      2/23/2022                                         NaN   \n",
      "1      3/16/2022                                        49.0   \n",
      "2      3/31/2022                                         1.0   \n",
      "3      3/31/2022                                       112.0   \n",
      "4      3/16/2022                                         2.0   \n",
      "..           ...                                         ...   \n",
      "487    3/31/2022                                         1.0   \n",
      "488    3/30/2022                                         8.0   \n",
      "489    3/30/2022                                         NaN   \n",
      "490    3/31/2022                                        13.0   \n",
      "491    3/31/2022                                        25.0   \n",
      "\n",
      "     NumberOfAPICalls_CurrentMonth  NumberOfAPICalls_SecondMonth  \\\n",
      "0                              NaN                           NaN   \n",
      "1                            166.0                         102.0   \n",
      "2                         251826.0                      232347.0   \n",
      "3                         335563.0                      292485.0   \n",
      "4                          32604.0                       24093.0   \n",
      "..                             ...                           ...   \n",
      "487                            NaN                           NaN   \n",
      "488                            1.0                           NaN   \n",
      "489                            NaN                           NaN   \n",
      "490                            NaN                           NaN   \n",
      "491                            NaN                           NaN   \n",
      "\n",
      "     NumberOfAPICalls_ThirdMonth    DBRows  FilesStorageSpace  Users  \n",
      "0                            NaN       NaN                NaN    NaN  \n",
      "1                          129.0      42.0           0.080785    NaN  \n",
      "2                       189909.0  133547.0           0.023080  132.0  \n",
      "3                       310208.0  110698.0                NaN    NaN  \n",
      "4                        13155.0      29.0                NaN    NaN  \n",
      "..                           ...       ...                ...    ...  \n",
      "487                          NaN       NaN                NaN    NaN  \n",
      "488                          NaN       1.0                NaN    NaN  \n",
      "489                          NaN       NaN                NaN    NaN  \n",
      "490                          NaN       NaN                NaN    NaN  \n",
      "491                          NaN      12.0                NaN    NaN  \n",
      "\n",
      "[492 rows x 13 columns]\n"
     ]
    }
   ],
   "source": [
    "# Define path to raw data\n",
    "PATH_TO_DATA = '/Users/stephenkiss/Applications/platform_payment_som/data/input/som_rawdata_test.csv'\n",
    "\n",
    "# Load data\n",
    "dataset = pd.read_csv(PATH_TO_DATA)\n",
    "\n",
    "print(dataset)"
   ]
  },
  {
   "attachments": {},
   "cell_type": "markdown",
   "metadata": {},
   "source": [
    "## Data Preprocessing\n",
    "\n",
    "In this section, we perform necessary preprocessing on our data, including feature scaling, datetime conversions, feature generation, and one-hot encoding."
   ]
  },
  {
   "cell_type": "code",
   "execution_count": 40,
   "metadata": {},
   "outputs": [
    {
     "name": "stdout",
     "output_type": "stream",
     "text": [
      "     workspace_id  PlanPrice  TeamMembers  \\\n",
      "0               1      0.000        0.050   \n",
      "1               2      0.000        0.100   \n",
      "2               3      0.015        0.050   \n",
      "3               4      0.000        0.175   \n",
      "4               5      0.000        0.200   \n",
      "..            ...        ...          ...   \n",
      "487           488      0.000        0.025   \n",
      "488           489      0.000        0.025   \n",
      "489           490      0.005        0.025   \n",
      "490           491      0.000        0.025   \n",
      "491           492      0.000        0.025   \n",
      "\n",
      "     NumberOfMyCompanyConsoleCalls_CurrentMonth  \\\n",
      "0                                      0.000000   \n",
      "1                                      0.064430   \n",
      "2                                      0.000000   \n",
      "3                                      0.148993   \n",
      "4                                      0.001342   \n",
      "..                                          ...   \n",
      "487                                    0.000000   \n",
      "488                                    0.009396   \n",
      "489                                    0.000000   \n",
      "490                                    0.016107   \n",
      "491                                    0.032215   \n",
      "\n",
      "     NumberOfAPICalls_CurrentMonth  NumberOfAPICalls_SecondMonth  \\\n",
      "0                         0.000000                      0.000000   \n",
      "1                         0.000002                      0.000001   \n",
      "2                         0.002457                      0.002630   \n",
      "3                         0.003275                      0.003311   \n",
      "4                         0.000318                      0.000273   \n",
      "..                             ...                           ...   \n",
      "487                       0.000000                      0.000000   \n",
      "488                       0.000000                      0.000000   \n",
      "489                       0.000000                      0.000000   \n",
      "490                       0.000000                      0.000000   \n",
      "491                       0.000000                      0.000000   \n",
      "\n",
      "     NumberOfAPICalls_ThirdMonth        DBRows  FilesStorageSpace    Users  \\\n",
      "0                       0.000000  0.000000e+00           0.000000  0.00000   \n",
      "1                       0.000001  8.776488e-07           0.000499  0.00000   \n",
      "2                       0.002266  2.858695e-03           0.000143  0.00079   \n",
      "3                       0.003701  2.369587e-03           0.000000  0.00000   \n",
      "4                       0.000157  5.993699e-07           0.000000  0.00000   \n",
      "..                           ...           ...                ...      ...   \n",
      "487                     0.000000  0.000000e+00           0.000000  0.00000   \n",
      "488                     0.000000  0.000000e+00           0.000000  0.00000   \n",
      "489                     0.000000  0.000000e+00           0.000000  0.00000   \n",
      "490                     0.000000  0.000000e+00           0.000000  0.00000   \n",
      "491                     0.000000  2.354667e-07           0.000000  0.00000   \n",
      "\n",
      "     DaysSinceFirstSeen  is_paying  WorkspaceCreationYear_2019  \\\n",
      "0              0.000000          0                           0   \n",
      "1              0.583333          0                           0   \n",
      "2              1.000000          1                           0   \n",
      "3              1.000000          0                           1   \n",
      "4              0.583333          0                           1   \n",
      "..                  ...        ...                         ...   \n",
      "487            0.000000          0                           0   \n",
      "488            0.000000          0                           0   \n",
      "489            0.000000          1                           0   \n",
      "490            0.000000          0                           0   \n",
      "491            0.000000          0                           0   \n",
      "\n",
      "     WorkspaceCreationYear_2020  WorkspaceCreationYear_2021  \\\n",
      "0                             0                           0   \n",
      "1                             0                           0   \n",
      "2                             0                           0   \n",
      "3                             0                           0   \n",
      "4                             0                           0   \n",
      "..                          ...                         ...   \n",
      "487                           0                           0   \n",
      "488                           0                           0   \n",
      "489                           0                           0   \n",
      "490                           0                           0   \n",
      "491                           0                           0   \n",
      "\n",
      "     WorkspaceCreationYear_2022  \n",
      "0                             0  \n",
      "1                             0  \n",
      "2                             0  \n",
      "3                             0  \n",
      "4                             0  \n",
      "..                          ...  \n",
      "487                           1  \n",
      "488                           1  \n",
      "489                           1  \n",
      "490                           1  \n",
      "491                           1  \n",
      "\n",
      "[492 rows x 16 columns]\n"
     ]
    }
   ],
   "source": [
    "# Preprocess data\n",
    "\n",
    "# Initialize a feature scaler\n",
    "feature_scaler = MinMaxScaler(feature_range = (0,1))\n",
    "\n",
    "# Convert 'WorkspaceCreationDate' to datetime and extract year\n",
    "dataset['WorkspaceCreationDate'] = pd.to_datetime(dataset['WorkspaceCreationDate'])\n",
    "dataset['WorkspaceCreationYear'] = dataset['WorkspaceCreationDate'].dt.year\n",
    "dataset.drop('WorkspaceCreationDate', axis=1, inplace=True)\n",
    "\n",
    "# Convert 'DateFirstSeen' and 'DateLastSeen' to datetime and compute days since first seen\n",
    "dataset['DateFirstSeen'] = pd.to_datetime(dataset['DateFirstSeen'])\n",
    "dataset['DateLastSeen'] = pd.to_datetime(dataset['DateLastSeen'])\n",
    "dataset['DaysSinceFirstSeen'] = (dataset['DateLastSeen'] - dataset['DateFirstSeen']).dt.days\n",
    "dataset.drop(['DateFirstSeen', 'DateLastSeen'], axis=1, inplace=True)\n",
    "\n",
    "# Create 'is_paying' column based on 'PlanPrice'\n",
    "dataset['is_paying'] = (dataset['PlanPrice'] != 0).astype(int)\n",
    "\n",
    "# List of features to scale\n",
    "FEATURES2SCALE = [\n",
    "    'NumberOfMyCompanyConsoleCalls_CurrentMonth',\n",
    "    'NumberOfAPICalls_CurrentMonth',\n",
    "    'NumberOfAPICalls_SecondMonth',\n",
    "    'NumberOfAPICalls_ThirdMonth',\n",
    "    'DBRows',\n",
    "    'FilesStorageSpace',\n",
    "    'Users',\n",
    "    'TeamMembers',\n",
    "    'DaysSinceFirstSeen',\n",
    "    'PlanPrice'\n",
    "]\n",
    "\n",
    "# Apply feature scaling for each feature in FEATURES2SCALE\n",
    "for feature in FEATURES2SCALE:\n",
    "    if feature in dataset.columns:\n",
    "        values = dataset[feature].values.reshape(-1,1)\n",
    "        scaled_values = feature_scaler.fit_transform(values)\n",
    "        dataset[feature] = scaled_values\n",
    "        dataset[feature].fillna(0, inplace=True)\n",
    "\n",
    "# One hot encode 'WorkspaceCreationYear'\n",
    "least_frequent_year = dataset['WorkspaceCreationYear'].value_counts().idxmin()\n",
    "workspace_year_dummies = pd.get_dummies(dataset['WorkspaceCreationYear'], prefix='WorkspaceCreationYear')\n",
    "dataset.drop('WorkspaceCreationYear', axis=1, inplace=True)\n",
    "dataset = pd.concat([dataset, workspace_year_dummies], axis=1)\n",
    "dataset.drop('WorkspaceCreationYear_' + str(least_frequent_year), axis=1, inplace=True)\n",
    "dataset = dataset * 1\n",
    "\n",
    "print(dataset)"
   ]
  },
  {
   "attachments": {},
   "cell_type": "markdown",
   "metadata": {},
   "source": [
    "## Self-Organizing Map (SOM) Creation\n",
    "\n",
    "We now proceed to generate the Self-Organizing Map. First, we prepare our dataset and set up the required parameters for our SOM. Then, we initialize and train our SOM using the MiniSom package (https://github.com/JustGlowing/minisom). "
   ]
  },
  {
   "cell_type": "code",
   "execution_count": 41,
   "metadata": {},
   "outputs": [],
   "source": [
    "# Create SOM\n",
    "\n",
    "# Split the dataframe into three numpy arrays\n",
    "is_paying = dataset[\"is_paying\"].values\n",
    "ids = dataset[\"workspace_id\"].values\n",
    "dataset_array = dataset.drop(columns = [\"workspace_id\",\"is_paying\"]).values\n",
    "\n",
    "# Parameters for SOM\n",
    "x_dim = 5\n",
    "y_dim = 5\n",
    "\n",
    "# Initialize and train SOM\n",
    "self_organizing_map = MiniSom(x = x_dim, y = y_dim, input_len = dataset_array.shape[1], sigma= 1.0, learning_rate = 0.5)\n",
    "self_organizing_map.random_weights_init(dataset_array)\n",
    "self_organizing_map.train_random(data = dataset_array, num_iteration = 1000)"
   ]
  },
  {
   "attachments": {},
   "cell_type": "markdown",
   "metadata": {},
   "source": [
    "## Visualizing the SOM\n",
    "\n",
    "Next, we will visualize the Self-Organizing Map. This visualization will help us understand the different groups or clusters formed by the SOM."
   ]
  },
  {
   "cell_type": "code",
   "execution_count": 42,
   "metadata": {},
   "outputs": [
    {
     "data": {
      "image/png": "[encoded data removed]",
      "text/plain": [
       "<Figure size 640x480 with 2 Axes>"
      ]
     },
     "metadata": {},
     "output_type": "display_data"
    }
   ],
   "source": [
    "# Initialize 2D array to keep track of paying counts.\n",
    "paying_counts = np.zeros((x_dim, y_dim, 2))  # The third dimension stores non-paying and paying counts respectively.\n",
    "\n",
    "# Visualize the SOM\n",
    "bone()\n",
    "pcolor(self_organizing_map.distance_map().T)\n",
    "colorbar()\n",
    "markers = ['x', 'o']\n",
    "colors = ['r', 'g']\n",
    "for i_sample, sample in enumerate(dataset_array):\n",
    "  w = self_organizing_map.winner(sample)\n",
    "  i_marker = is_paying[i_sample]\n",
    "  \n",
    "  # Update counts in the respective cell.\n",
    "  paying_counts[w][i_marker] += 1\n",
    "\n",
    "  # Determine the size of the marker.\n",
    "  markersize = 10 * np.log1p(paying_counts[w][i_marker])  # Scaling using the log function to reduce skewness.\n",
    "  \n",
    "  plot(w[0] + 0.5, w[1] + 0.5, markers[i_marker], markeredgecolor = colors[i_marker], markerfacecolor = 'None', markersize = markersize, markeredgewidth = 2)\n",
    "plt.show(block=False)"
   ]
  },
  {
   "attachments": {},
   "cell_type": "markdown",
   "metadata": {},
   "source": [
    "## Categorizing Data\n",
    "\n",
    "Now, we'll assign each data point to its respective Best Matching Unit (BMU). Following this, we will categorize each BMU based on the percentage of paying users it contains."
   ]
  },
  {
   "cell_type": "code",
   "execution_count": 43,
   "metadata": {},
   "outputs": [],
   "source": [
    "# Find winning nodes\n",
    "dataframe = pd.DataFrame()\n",
    "bmus = []\n",
    "for _, input_row in enumerate(dataset_array):\n",
    "  bmu = self_organizing_map.winner(input_row)\n",
    "  bmus.append(str((bmu[0],bmu[1])))\n",
    "dataframe[\"workspace_id\"] = ids\n",
    "dataframe[\"is_paying\"] = is_paying\n",
    "dataframe[\"best_matching_unit\"] = np.array(bmus)\n",
    "dataframe[\"bmu_category\"] = \"Unassigned\"\n",
    "\n",
    "# Assign category based on percentage of payers in each bmu\n",
    "bmu_dict = dict.fromkeys(bmus,\"Unassigned\")\n",
    "for bmu in bmus:\n",
    "  temp_df = dataframe.loc[dataframe['best_matching_unit'] == bmu]\n",
    "  num_workspaces = len(temp_df.index)\n",
    "  if len(temp_df.is_paying.unique()) > 1:\n",
    "    is_paying_counts = temp_df.is_paying.value_counts()\n",
    "    percentage_paying = is_paying_counts[1]/(is_paying_counts[0]+is_paying_counts[1])\n",
    "    if percentage_paying < .5:\n",
    "      bmu_dict[bmu] = \"<50 percent paying | n = %s\" % (num_workspaces)\n",
    "    else:\n",
    "      bmu_dict[bmu] = \">50 percent paying | n = %s\" % (num_workspaces)\n",
    "  elif temp_df.is_paying.unique() == 1:\n",
    "    bmu_dict[bmu] = \"100 percent paying | n = %s\" % (num_workspaces)\n",
    "  elif temp_df.is_paying.unique() == 0:\n",
    "    bmu_dict[bmu] = \"  0 percent paying | n = %s\" % (num_workspaces)\n",
    "\n",
    "for bmu in bmus:\n",
    "  col_is_bmu = (dataframe.best_matching_unit == bmu)\n",
    "  dataframe.loc[col_is_bmu, 'bmu_category'] = bmu_dict[bmu]"
   ]
  },
  {
   "attachments": {},
   "cell_type": "markdown",
   "metadata": {},
   "source": [
    "## Exporting Results\n",
    "\n",
    "Finally, we'll export our processed data, containing the assigned BMUs and their respective categories, to a CSV file."
   ]
  },
  {
   "cell_type": "code",
   "execution_count": 44,
   "metadata": {},
   "outputs": [
    {
     "name": "stdout",
     "output_type": "stream",
     "text": [
      "     workspace_id  is_paying best_matching_unit                 bmu_category\n",
      "0               1          0             (0, 1)     0 percent paying | n = 1\n",
      "1               2          0             (2, 1)   >50 percent paying | n = 2\n",
      "2               3          1             (2, 1)   >50 percent paying | n = 2\n",
      "3               4          0             (2, 0)  >50 percent paying | n = 10\n",
      "4               5          0             (1, 0)   <50 percent paying | n = 5\n",
      "..            ...        ...                ...                          ...\n",
      "487           488          0             (4, 3)  <50 percent paying | n = 71\n",
      "488           489          0             (4, 3)  <50 percent paying | n = 71\n",
      "489           490          1             (4, 3)  <50 percent paying | n = 71\n",
      "490           491          0             (4, 3)  <50 percent paying | n = 71\n",
      "491           492          0             (4, 3)  <50 percent paying | n = 71\n",
      "\n",
      "[492 rows x 4 columns]\n"
     ]
    }
   ],
   "source": [
    "dataframe.to_csv(\"/Users/stephenkiss/Applications/platform_payment_som/data/output/final_dataframe.csv\", index=False)\n",
    "print(dataframe)"
   ]
  }
 ],
 "metadata": {
  "kernelspec": {
   "display_name": "env",
   "language": "python",
   "name": "python3"
  },
  "language_info": {
   "codemirror_mode": {
    "name": "ipython",
    "version": 3
   },
   "file_extension": ".py",
   "mimetype": "text/x-python",
   "name": "python",
   "nbconvert_exporter": "python",
   "pygments_lexer": "ipython3",
   "version": "3.10.9"
  },
  "orig_nbformat": 4
 },
 "nbformat": 4,
 "nbformat_minor": 2
}
